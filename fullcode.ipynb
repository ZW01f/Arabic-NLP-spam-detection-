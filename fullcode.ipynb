{
 "cells": [
  {
   "cell_type": "code",
   "execution_count": 1,
   "metadata": {
    "tags": []
   },
   "outputs": [],
   "source": [
    "# !pip install tashaphyne\n",
    "# !pip install emoji"
   ]
  },
  {
   "cell_type": "code",
   "execution_count": 1,
   "metadata": {
    "_cell_guid": "b1076dfc-b9ad-4769-8c92-a6c4dae69d19",
    "_uuid": "8f2839f25d086af736a60e9eeb907d3b93b6e0e5",
    "tags": []
   },
   "outputs": [],
   "source": [
    "import pandas as pd \n",
    "import numpy as np\n",
    "import nltk\n",
    "from tashaphyne.stemming import ArabicLightStemmer\n",
    "import warnings as wr\n",
    "import regex as re\n",
    "from sklearn.model_selection import train_test_split\n",
    "import emoji\n",
    "import matplotlib.pyplot as plt\n",
    "wr.filterwarnings(\"ignore\")"
   ]
  },
  {
   "cell_type": "code",
   "execution_count": 2,
   "metadata": {
    "tags": []
   },
   "outputs": [],
   "source": [
    "def Cleaning(copy_data):\n",
    "    copy_data['class']=copy_data['class'].replace({'pos':0,'neg':1})\n",
    "    copy_data.drop(copy_data.columns[copy_data.columns.str.contains('unnamed',case = False)],axis = 1, inplace = True) #remove unnamed columns . \n",
    "    copy_data['sentenses_len'] = 0\n",
    "    copy_data['puretext'] = 0 \n",
    "    copy_data['#english_words'] = 0 \n",
    "    copy_data['#hashtags'] = 0 \n",
    "    copy_data['#mentioning'] = 0 \n",
    "    copy_data['#hyperlinks'] = 0 \n",
    "    copy_data['#numbers'] = 0\n",
    "    copy_data['#emojis']=0\n",
    "    \n",
    "    return copy_data"
   ]
  },
  {
   "cell_type": "code",
   "execution_count": 3,
   "metadata": {
    "tags": []
   },
   "outputs": [],
   "source": [
    "def tokenization(x,idx): # take data copy\n",
    "        tokens = nltk.word_tokenize(x['text'][idx])\n",
    "        return tokens\n",
    "def segmentation(x,idx): # take data copy \n",
    "    s_tokens = nltk.data.load('tokenizers/punkt/english.pickle')\n",
    "    sentens = s_tokens.tokenize(x['text'][idx])\n",
    "    x['sentenses_len'][i] = len(sentens) #save length of sentenses in the csv \"data set \"  file  \n",
    "    # print(len(sentens))    \n",
    "def drop_stop_words(x): #take data copy\n",
    "    arb_stop_words = set(nltk.corpus.stopwords.words(\"arabic\"))\n",
    "    tokensOfpureTextWithoutstop=[token for token in x if token not in arb_stop_words]\n",
    "    return tokensOfpureTextWithoutstop\n",
    "def stemming_Light(x):\n",
    "    ArListem = ArabicLightStemmer()\n",
    "    stemming_Light =[ArListem.light_stem(token) for token in x]\n",
    "    return stemming_Light\n",
    "def stemming(x):\n",
    "    st = nltk.ISRIStemmer()\n",
    "    stemming_root =[st.stem(token) for token in x]\n",
    "    return stemming_root"
   ]
  },
  {
   "cell_type": "code",
   "execution_count": 4,
   "metadata": {
    "tags": []
   },
   "outputs": [],
   "source": [
    "def removing_mentioning(text):\n",
    "    return re.sub(r\"@[a-zA-Z0-9]+\",'',text)\n",
    "def removing_hashtags(text):\n",
    "    return re.sub(r\"#[a-zA-Z0-9أ-ى]+\",'',text)\n",
    "def remove_newlines_tabs(text):\n",
    "    return ' '.join(text.replace('\\n', ' ').replace('\\t',' ').split())\n",
    "def remove_numbers(text):\n",
    "    return re.sub('\\d+', '', text)\n",
    "def remove_links(text):\n",
    "    return re.sub(r'https?:\\/\\/.*[\\r\\n]*', '', text)\n",
    "def remove_emojis(text):\n",
    "    return emoji.replace_emoji(text, '').replace('☻', ' ')\n",
    "def remove_english(text):\n",
    "    return re.sub('[A-Za-z]+', '', text)"
   ]
  },
  {
   "cell_type": "code",
   "execution_count": 5,
   "metadata": {
    "tags": []
   },
   "outputs": [],
   "source": [
    "def spliting (data_,target,test_size=0.33):\n",
    "    X_train, X_test, y_train, y_test = train_test_split(data_, target, test_size=test_size, random_state=44, shuffle =True)\n",
    "    return X_train, X_test, y_train, y_test\n"
   ]
  },
  {
   "cell_type": "markdown",
   "metadata": {},
   "source": [
    "# Data set "
   ]
  },
  {
   "cell_type": "code",
   "execution_count": 6,
   "metadata": {},
   "outputs": [],
   "source": [
    "data=pd.read_csv('data_set.csv')\n",
    "data = Cleaning(data)"
   ]
  },
  {
   "cell_type": "code",
   "execution_count": 7,
   "metadata": {},
   "outputs": [
    {
     "name": "stdout",
     "output_type": "stream",
     "text": [
      "<class 'pandas.core.frame.DataFrame'>\n",
      "RangeIndex: 45274 entries, 0 to 45273\n",
      "Data columns (total 10 columns):\n",
      " #   Column          Non-Null Count  Dtype \n",
      "---  ------          --------------  ----- \n",
      " 0   class           45274 non-null  int64 \n",
      " 1   text            45274 non-null  object\n",
      " 2   sentenses_len   45274 non-null  int64 \n",
      " 3   puretext        45274 non-null  int64 \n",
      " 4   #english_words  45274 non-null  int64 \n",
      " 5   #hashtags       45274 non-null  int64 \n",
      " 6   #mentioning     45274 non-null  int64 \n",
      " 7   #hyperlinks     45274 non-null  int64 \n",
      " 8   #numbers        45274 non-null  int64 \n",
      " 9   #emojis         45274 non-null  int64 \n",
      "dtypes: int64(9), object(1)\n",
      "memory usage: 3.5+ MB\n"
     ]
    }
   ],
   "source": [
    "data.info()"
   ]
  },
  {
   "cell_type": "code",
   "execution_count": 8,
   "metadata": {},
   "outputs": [
    {
     "data": {
      "text/html": [
       "<div>\n",
       "<style scoped>\n",
       "    .dataframe tbody tr th:only-of-type {\n",
       "        vertical-align: middle;\n",
       "    }\n",
       "\n",
       "    .dataframe tbody tr th {\n",
       "        vertical-align: top;\n",
       "    }\n",
       "\n",
       "    .dataframe thead th {\n",
       "        text-align: right;\n",
       "    }\n",
       "</style>\n",
       "<table border=\"1\" class=\"dataframe\">\n",
       "  <thead>\n",
       "    <tr style=\"text-align: right;\">\n",
       "      <th></th>\n",
       "      <th>class</th>\n",
       "      <th>text</th>\n",
       "      <th>sentenses_len</th>\n",
       "      <th>puretext</th>\n",
       "      <th>#english_words</th>\n",
       "      <th>#hashtags</th>\n",
       "      <th>#mentioning</th>\n",
       "      <th>#hyperlinks</th>\n",
       "      <th>#numbers</th>\n",
       "      <th>#emojis</th>\n",
       "    </tr>\n",
       "  </thead>\n",
       "  <tbody>\n",
       "    <tr>\n",
       "      <th>0</th>\n",
       "      <td>1</td>\n",
       "      <td>اعترف ان بتس كانو شوي شوي يجيبو راسي لكن اليوم...</td>\n",
       "      <td>0</td>\n",
       "      <td>0</td>\n",
       "      <td>0</td>\n",
       "      <td>0</td>\n",
       "      <td>0</td>\n",
       "      <td>0</td>\n",
       "      <td>0</td>\n",
       "      <td>0</td>\n",
       "    </tr>\n",
       "    <tr>\n",
       "      <th>1</th>\n",
       "      <td>1</td>\n",
       "      <td>توقعت اذا جات داريا بشوفهم كاملين بس لي للحين ...</td>\n",
       "      <td>0</td>\n",
       "      <td>0</td>\n",
       "      <td>0</td>\n",
       "      <td>0</td>\n",
       "      <td>0</td>\n",
       "      <td>0</td>\n",
       "      <td>0</td>\n",
       "      <td>0</td>\n",
       "    </tr>\n",
       "    <tr>\n",
       "      <th>2</th>\n",
       "      <td>1</td>\n",
       "      <td>#الاهلي_الهلال اكتب توقعك لنتيجة لقاء الهلال و...</td>\n",
       "      <td>0</td>\n",
       "      <td>0</td>\n",
       "      <td>0</td>\n",
       "      <td>0</td>\n",
       "      <td>0</td>\n",
       "      <td>0</td>\n",
       "      <td>0</td>\n",
       "      <td>0</td>\n",
       "    </tr>\n",
       "    <tr>\n",
       "      <th>3</th>\n",
       "      <td>1</td>\n",
       "      <td>نعمة المضادات الحيوية . تضع قطرة💧مضاد بنسلين ع...</td>\n",
       "      <td>0</td>\n",
       "      <td>0</td>\n",
       "      <td>0</td>\n",
       "      <td>0</td>\n",
       "      <td>0</td>\n",
       "      <td>0</td>\n",
       "      <td>0</td>\n",
       "      <td>0</td>\n",
       "    </tr>\n",
       "    <tr>\n",
       "      <th>4</th>\n",
       "      <td>1</td>\n",
       "      <td>الدودو جايه تكمل علي 💔</td>\n",
       "      <td>0</td>\n",
       "      <td>0</td>\n",
       "      <td>0</td>\n",
       "      <td>0</td>\n",
       "      <td>0</td>\n",
       "      <td>0</td>\n",
       "      <td>0</td>\n",
       "      <td>0</td>\n",
       "    </tr>\n",
       "  </tbody>\n",
       "</table>\n",
       "</div>"
      ],
      "text/plain": [
       "   class                                               text  sentenses_len  \\\n",
       "0      1  اعترف ان بتس كانو شوي شوي يجيبو راسي لكن اليوم...              0   \n",
       "1      1  توقعت اذا جات داريا بشوفهم كاملين بس لي للحين ...              0   \n",
       "2      1  #الاهلي_الهلال اكتب توقعك لنتيجة لقاء الهلال و...              0   \n",
       "3      1  نعمة المضادات الحيوية . تضع قطرة💧مضاد بنسلين ع...              0   \n",
       "4      1                             الدودو جايه تكمل علي 💔              0   \n",
       "\n",
       "   puretext  #english_words  #hashtags  #mentioning  #hyperlinks  #numbers  \\\n",
       "0         0               0          0            0            0         0   \n",
       "1         0               0          0            0            0         0   \n",
       "2         0               0          0            0            0         0   \n",
       "3         0               0          0            0            0         0   \n",
       "4         0               0          0            0            0         0   \n",
       "\n",
       "   #emojis  \n",
       "0        0  \n",
       "1        0  \n",
       "2        0  \n",
       "3        0  \n",
       "4        0  "
      ]
     },
     "execution_count": 8,
     "metadata": {},
     "output_type": "execute_result"
    }
   ],
   "source": [
    "data.head()"
   ]
  },
  {
   "cell_type": "code",
   "execution_count": 9,
   "metadata": {},
   "outputs": [
    {
     "data": {
      "text/html": [
       "<div>\n",
       "<style scoped>\n",
       "    .dataframe tbody tr th:only-of-type {\n",
       "        vertical-align: middle;\n",
       "    }\n",
       "\n",
       "    .dataframe tbody tr th {\n",
       "        vertical-align: top;\n",
       "    }\n",
       "\n",
       "    .dataframe thead th {\n",
       "        text-align: right;\n",
       "    }\n",
       "</style>\n",
       "<table border=\"1\" class=\"dataframe\">\n",
       "  <thead>\n",
       "    <tr style=\"text-align: right;\">\n",
       "      <th></th>\n",
       "      <th>class</th>\n",
       "      <th>sentenses_len</th>\n",
       "      <th>puretext</th>\n",
       "      <th>#english_words</th>\n",
       "      <th>#hashtags</th>\n",
       "      <th>#mentioning</th>\n",
       "      <th>#hyperlinks</th>\n",
       "      <th>#numbers</th>\n",
       "      <th>#emojis</th>\n",
       "    </tr>\n",
       "  </thead>\n",
       "  <tbody>\n",
       "    <tr>\n",
       "      <th>count</th>\n",
       "      <td>45274.000000</td>\n",
       "      <td>45274.0</td>\n",
       "      <td>45274.0</td>\n",
       "      <td>45274.0</td>\n",
       "      <td>45274.0</td>\n",
       "      <td>45274.0</td>\n",
       "      <td>45274.0</td>\n",
       "      <td>45274.0</td>\n",
       "      <td>45274.0</td>\n",
       "    </tr>\n",
       "    <tr>\n",
       "      <th>mean</th>\n",
       "      <td>0.497283</td>\n",
       "      <td>0.0</td>\n",
       "      <td>0.0</td>\n",
       "      <td>0.0</td>\n",
       "      <td>0.0</td>\n",
       "      <td>0.0</td>\n",
       "      <td>0.0</td>\n",
       "      <td>0.0</td>\n",
       "      <td>0.0</td>\n",
       "    </tr>\n",
       "    <tr>\n",
       "      <th>std</th>\n",
       "      <td>0.499998</td>\n",
       "      <td>0.0</td>\n",
       "      <td>0.0</td>\n",
       "      <td>0.0</td>\n",
       "      <td>0.0</td>\n",
       "      <td>0.0</td>\n",
       "      <td>0.0</td>\n",
       "      <td>0.0</td>\n",
       "      <td>0.0</td>\n",
       "    </tr>\n",
       "    <tr>\n",
       "      <th>min</th>\n",
       "      <td>0.000000</td>\n",
       "      <td>0.0</td>\n",
       "      <td>0.0</td>\n",
       "      <td>0.0</td>\n",
       "      <td>0.0</td>\n",
       "      <td>0.0</td>\n",
       "      <td>0.0</td>\n",
       "      <td>0.0</td>\n",
       "      <td>0.0</td>\n",
       "    </tr>\n",
       "    <tr>\n",
       "      <th>25%</th>\n",
       "      <td>0.000000</td>\n",
       "      <td>0.0</td>\n",
       "      <td>0.0</td>\n",
       "      <td>0.0</td>\n",
       "      <td>0.0</td>\n",
       "      <td>0.0</td>\n",
       "      <td>0.0</td>\n",
       "      <td>0.0</td>\n",
       "      <td>0.0</td>\n",
       "    </tr>\n",
       "    <tr>\n",
       "      <th>50%</th>\n",
       "      <td>0.000000</td>\n",
       "      <td>0.0</td>\n",
       "      <td>0.0</td>\n",
       "      <td>0.0</td>\n",
       "      <td>0.0</td>\n",
       "      <td>0.0</td>\n",
       "      <td>0.0</td>\n",
       "      <td>0.0</td>\n",
       "      <td>0.0</td>\n",
       "    </tr>\n",
       "    <tr>\n",
       "      <th>75%</th>\n",
       "      <td>1.000000</td>\n",
       "      <td>0.0</td>\n",
       "      <td>0.0</td>\n",
       "      <td>0.0</td>\n",
       "      <td>0.0</td>\n",
       "      <td>0.0</td>\n",
       "      <td>0.0</td>\n",
       "      <td>0.0</td>\n",
       "      <td>0.0</td>\n",
       "    </tr>\n",
       "    <tr>\n",
       "      <th>max</th>\n",
       "      <td>1.000000</td>\n",
       "      <td>0.0</td>\n",
       "      <td>0.0</td>\n",
       "      <td>0.0</td>\n",
       "      <td>0.0</td>\n",
       "      <td>0.0</td>\n",
       "      <td>0.0</td>\n",
       "      <td>0.0</td>\n",
       "      <td>0.0</td>\n",
       "    </tr>\n",
       "  </tbody>\n",
       "</table>\n",
       "</div>"
      ],
      "text/plain": [
       "              class  sentenses_len  puretext  #english_words  #hashtags  \\\n",
       "count  45274.000000        45274.0   45274.0         45274.0    45274.0   \n",
       "mean       0.497283            0.0       0.0             0.0        0.0   \n",
       "std        0.499998            0.0       0.0             0.0        0.0   \n",
       "min        0.000000            0.0       0.0             0.0        0.0   \n",
       "25%        0.000000            0.0       0.0             0.0        0.0   \n",
       "50%        0.000000            0.0       0.0             0.0        0.0   \n",
       "75%        1.000000            0.0       0.0             0.0        0.0   \n",
       "max        1.000000            0.0       0.0             0.0        0.0   \n",
       "\n",
       "       #mentioning  #hyperlinks  #numbers  #emojis  \n",
       "count      45274.0      45274.0   45274.0  45274.0  \n",
       "mean           0.0          0.0       0.0      0.0  \n",
       "std            0.0          0.0       0.0      0.0  \n",
       "min            0.0          0.0       0.0      0.0  \n",
       "25%            0.0          0.0       0.0      0.0  \n",
       "50%            0.0          0.0       0.0      0.0  \n",
       "75%            0.0          0.0       0.0      0.0  \n",
       "max            0.0          0.0       0.0      0.0  "
      ]
     },
     "execution_count": 9,
     "metadata": {},
     "output_type": "execute_result"
    }
   ],
   "source": [
    "data.describe()"
   ]
  },
  {
   "cell_type": "code",
   "execution_count": 10,
   "metadata": {},
   "outputs": [
    {
     "data": {
      "image/png": "[encoded data removed]",
      "text/plain": [
       "<Figure size 432x288 with 1 Axes>"
      ]
     },
     "metadata": {},
     "output_type": "display_data"
    }
   ],
   "source": [
    "plt.pie(data['class'].value_counts(), labels=['ham','spam'], counterclock=False, shadow=True, autopct='%1.1f%%', radius=1, startangle=0)\n",
    "plt.show()"
   ]
  },
  {
   "cell_type": "markdown",
   "metadata": {},
   "source": [
    "### Preprocessing"
   ]
  },
  {
   "cell_type": "code",
   "execution_count": 11,
   "metadata": {
    "tags": []
   },
   "outputs": [],
   "source": [
    "for i in range(0,data.shape[0]):\n",
    "    tokens = tokenization(data , i )\n",
    "    data['#english_words'][i] = len(re.findall(r'[A-Za-z]+', data['text'][i]))\n",
    "    data['#hyperlinks'][i] = len(re.findall(r'https?:\\/\\/.*[\\r\\n]*', data['text'][i]))\n",
    "    data['#numbers'][i] = len(re.findall('\\d+', data['text'][i]))\n",
    "    data['#hashtags'][i] = len(re.findall(r\"#[a-zA-Z0-9أ-ى]+\", data['text'][i]))\n",
    "    data['#mentioning'][i] = len(re.findall(r\"@[a-zA-Z0-9]+\", data['text'][i]))\n",
    "    data['#emojis'][i]=emoji.emoji_count(data['text'][i])\n",
    "    segmentation(data,i)\n",
    "    pure_tokens = drop_stop_words(tokens)\n",
    "#     pure_tokens = stemming_Light(pure_tokens) #-> light_streamer , we don't use it . \n",
    "    pure_tokens = stemming(pure_tokens)\n",
    "    data['puretext'][i] = ' '.join(pure_tokens)\n",
    "    # print(tokens)"
   ]
  },
  {
   "cell_type": "code",
   "execution_count": 12,
   "metadata": {
    "tags": []
   },
   "outputs": [],
   "source": [
    "data.drop('text',axis=1,inplace=True)"
   ]
  },
  {
   "cell_type": "code",
   "execution_count": 13,
   "metadata": {
    "tags": []
   },
   "outputs": [],
   "source": [
    "data['puretext'] = data['puretext'].apply(removing_mentioning)\n",
    "data['puretext'] = data['puretext'].apply(removing_hashtags)\n",
    "data['puretext'] = data['puretext'].apply(remove_numbers)\n",
    "data['puretext'] = data['puretext'].apply(remove_links)\n",
    "data['puretext'] = data['puretext'].apply(remove_emojis)\n",
    "data['puretext'] = data['puretext'].apply(remove_english)"
   ]
  },
  {
   "cell_type": "code",
   "execution_count": 14,
   "metadata": {
    "tags": []
   },
   "outputs": [],
   "source": [
    "copy_data=data.iloc[:,[1,3,4,5,6,7,8]]"
   ]
  },
  {
   "cell_type": "code",
   "execution_count": 15,
   "metadata": {
    "tags": []
   },
   "outputs": [
    {
     "data": {
      "text/html": [
       "<div>\n",
       "<style scoped>\n",
       "    .dataframe tbody tr th:only-of-type {\n",
       "        vertical-align: middle;\n",
       "    }\n",
       "\n",
       "    .dataframe tbody tr th {\n",
       "        vertical-align: top;\n",
       "    }\n",
       "\n",
       "    .dataframe thead th {\n",
       "        text-align: right;\n",
       "    }\n",
       "</style>\n",
       "<table border=\"1\" class=\"dataframe\">\n",
       "  <thead>\n",
       "    <tr style=\"text-align: right;\">\n",
       "      <th></th>\n",
       "      <th>sentenses_len</th>\n",
       "      <th>#english_words</th>\n",
       "      <th>#hashtags</th>\n",
       "      <th>#mentioning</th>\n",
       "      <th>#hyperlinks</th>\n",
       "      <th>#numbers</th>\n",
       "      <th>#emojis</th>\n",
       "    </tr>\n",
       "  </thead>\n",
       "  <tbody>\n",
       "    <tr>\n",
       "      <th>0</th>\n",
       "      <td>1</td>\n",
       "      <td>0</td>\n",
       "      <td>0</td>\n",
       "      <td>0</td>\n",
       "      <td>0</td>\n",
       "      <td>0</td>\n",
       "      <td>1</td>\n",
       "    </tr>\n",
       "    <tr>\n",
       "      <th>1</th>\n",
       "      <td>1</td>\n",
       "      <td>1</td>\n",
       "      <td>1</td>\n",
       "      <td>0</td>\n",
       "      <td>0</td>\n",
       "      <td>0</td>\n",
       "      <td>1</td>\n",
       "    </tr>\n",
       "    <tr>\n",
       "      <th>2</th>\n",
       "      <td>1</td>\n",
       "      <td>1</td>\n",
       "      <td>2</td>\n",
       "      <td>0</td>\n",
       "      <td>0</td>\n",
       "      <td>0</td>\n",
       "      <td>1</td>\n",
       "    </tr>\n",
       "    <tr>\n",
       "      <th>3</th>\n",
       "      <td>3</td>\n",
       "      <td>0</td>\n",
       "      <td>0</td>\n",
       "      <td>0</td>\n",
       "      <td>0</td>\n",
       "      <td>0</td>\n",
       "      <td>3</td>\n",
       "    </tr>\n",
       "    <tr>\n",
       "      <th>4</th>\n",
       "      <td>1</td>\n",
       "      <td>0</td>\n",
       "      <td>0</td>\n",
       "      <td>0</td>\n",
       "      <td>0</td>\n",
       "      <td>0</td>\n",
       "      <td>1</td>\n",
       "    </tr>\n",
       "  </tbody>\n",
       "</table>\n",
       "</div>"
      ],
      "text/plain": [
       "   sentenses_len  #english_words  #hashtags  #mentioning  #hyperlinks  \\\n",
       "0              1               0          0            0            0   \n",
       "1              1               1          1            0            0   \n",
       "2              1               1          2            0            0   \n",
       "3              3               0          0            0            0   \n",
       "4              1               0          0            0            0   \n",
       "\n",
       "   #numbers  #emojis  \n",
       "0         0        1  \n",
       "1         0        1  \n",
       "2         0        1  \n",
       "3         0        3  \n",
       "4         0        1  "
      ]
     },
     "execution_count": 15,
     "metadata": {},
     "output_type": "execute_result"
    }
   ],
   "source": [
    "copy_data.head()"
   ]
  },
  {
   "cell_type": "markdown",
   "metadata": {},
   "source": [
    "#### Counting "
   ]
  },
  {
   "cell_type": "code",
   "execution_count": 16,
   "metadata": {
    "tags": []
   },
   "outputs": [],
   "source": [
    "from sklearn.feature_extraction.text import CountVectorizer\n",
    "counting_vec =CountVectorizer(binary=False)\n",
    "features = counting_vec.fit_transform(data['puretext']).astype('int8')\n",
    "counting =pd.DataFrame(features.toarray(), columns= counting_vec.vocabulary_.keys())"
   ]
  },
  {
   "cell_type": "code",
   "execution_count": 17,
   "metadata": {
    "tags": []
   },
   "outputs": [],
   "source": [
    "X_train, X_test, y_train, y_test=spliting (counting,data['class'],test_size=0.4)\n",
    "comparing_train=[]\n",
    "comparing_test=[]"
   ]
  },
  {
   "cell_type": "code",
   "execution_count": 18,
   "metadata": {
    "tags": []
   },
   "outputs": [
    {
     "name": "stdout",
     "output_type": "stream",
     "text": [
      "SVCModel Train Score is :  0.8313208658518627\n",
      "SVCModel Train Score is :  0.7500276090557703\n"
     ]
    }
   ],
   "source": [
    "from sklearn.svm import LinearSVC\n",
    "\n",
    "linear_svc=LinearSVC(C=.03)\n",
    "\n",
    "linear_svc.fit(X_train,y_train)\n",
    "\n",
    "print('SVCModel Train Score is : ' , linear_svc.score(X_train, y_train))\n",
    "print('SVCModel Train Score is : ' , linear_svc.score(X_test, y_test))\n",
    "\n",
    "comparing_train.append(linear_svc.score(X_train, y_train))\n",
    "comparing_test.append(linear_svc.score(X_test, y_test))"
   ]
  },
  {
   "cell_type": "code",
   "execution_count": 19,
   "metadata": {},
   "outputs": [
    {
     "data": {
      "image/png": "[encoded data removed]",
      "text/plain": [
       "<Figure size 432x288 with 2 Axes>"
      ]
     },
     "metadata": {
      "needs_background": "light"
     },
     "output_type": "display_data"
    }
   ],
   "source": [
    "from sklearn.metrics import plot_confusion_matrix\n",
    "import matplotlib.pyplot as plt\n",
    "plot_confusion_matrix(linear_svc, X_test, y_test) \n",
    "plt.show()"
   ]
  },
  {
   "cell_type": "markdown",
   "metadata": {},
   "source": [
    "### Binary Encoding"
   ]
  },
  {
   "cell_type": "code",
   "execution_count": 20,
   "metadata": {
    "tags": []
   },
   "outputs": [],
   "source": [
    "from sklearn.feature_extraction.text import CountVectorizer\n",
    "counting_vec =CountVectorizer(binary=True)\n",
    "features = counting_vec.fit_transform(data['puretext']).astype('int8')\n",
    "counting =pd.DataFrame(features.toarray(), columns= counting_vec.vocabulary_.keys())"
   ]
  },
  {
   "cell_type": "code",
   "execution_count": 21,
   "metadata": {
    "tags": []
   },
   "outputs": [],
   "source": [
    "X_train, X_test, y_train, y_test=spliting (counting,data['class'],test_size=0.4)\n"
   ]
  },
  {
   "cell_type": "code",
   "execution_count": 22,
   "metadata": {
    "tags": []
   },
   "outputs": [
    {
     "name": "stdout",
     "output_type": "stream",
     "text": [
      "SVCModel Train Score is :  0.83102635841555\n",
      "SVCModel Train Score is :  0.7506902263942573\n"
     ]
    }
   ],
   "source": [
    "linear_svc=LinearSVC(C=.03)\n",
    "\n",
    "linear_svc.fit(X_train,y_train)\n",
    "\n",
    "print('SVCModel Train Score is : ' , linear_svc.score(X_train, y_train))\n",
    "print('SVCModel Train Score is : ' , linear_svc.score(X_test, y_test))\n"
   ]
  },
  {
   "cell_type": "code",
   "execution_count": 23,
   "metadata": {
    "tags": []
   },
   "outputs": [],
   "source": [
    "comparing_train.append(linear_svc.score(X_train, y_train))\n",
    "comparing_test.append(linear_svc.score(X_test, y_test))"
   ]
  },
  {
   "cell_type": "code",
   "execution_count": 24,
   "metadata": {},
   "outputs": [
    {
     "data": {
      "image/png": "[encoded data removed]",
      "text/plain": [
       "<Figure size 432x288 with 2 Axes>"
      ]
     },
     "metadata": {
      "needs_background": "light"
     },
     "output_type": "display_data"
    }
   ],
   "source": [
    "from sklearn.metrics import plot_confusion_matrix\n",
    "import matplotlib.pyplot as plt\n",
    "plot_confusion_matrix(linear_svc, X_test, y_test) \n",
    "plt.show()"
   ]
  },
  {
   "cell_type": "markdown",
   "metadata": {},
   "source": [
    "### TF-IDF"
   ]
  },
  {
   "cell_type": "code",
   "execution_count": 27,
   "metadata": {
    "tags": []
   },
   "outputs": [],
   "source": [
    "from sklearn.feature_extraction.text import TfidfVectorizer\n",
    "vec = TfidfVectorizer()\n",
    "features = vec.fit_transform(data['puretext']).astype('float32')\n",
    "tf_idf =pd.DataFrame(features.toarray(), columns= vec.vocabulary_.keys())\n"
   ]
  },
  {
   "cell_type": "code",
   "execution_count": 28,
   "metadata": {
    "tags": []
   },
   "outputs": [],
   "source": [
    "X_train, X_test, y_train, y_test=spliting (tf_idf,data['class'],test_size=0.4)\n"
   ]
  },
  {
   "cell_type": "code",
   "execution_count": 29,
   "metadata": {
    "tags": []
   },
   "outputs": [
    {
     "name": "stdout",
     "output_type": "stream",
     "text": [
      "SVCModel Train Score is :  0.7809600942423797\n",
      "SVCModel Train Score is :  0.7308669243511872\n"
     ]
    }
   ],
   "source": [
    "linear_svc=LinearSVC(C=.03)\n",
    "\n",
    "linear_svc.fit(X_train,y_train)\n",
    "\n",
    "print('SVCModel Train Score is : ' , linear_svc.score(X_train, y_train))\n",
    "print('SVCModel Train Score is : ' , linear_svc.score(X_test, y_test))\n",
    "\n",
    "comparing_train.append(linear_svc.score(X_train, y_train))\n",
    "comparing_test.append(linear_svc.score(X_test, y_test))"
   ]
  },
  {
   "cell_type": "code",
   "execution_count": 30,
   "metadata": {},
   "outputs": [
    {
     "data": {
      "image/png": "[encoded data removed]",
      "text/plain": [
       "<Figure size 432x288 with 2 Axes>"
      ]
     },
     "metadata": {
      "needs_background": "light"
     },
     "output_type": "display_data"
    }
   ],
   "source": [
    "from sklearn.metrics import plot_confusion_matrix\n",
    "import matplotlib.pyplot as plt\n",
    "plot_confusion_matrix(linear_svc, X_test, y_test) \n",
    "plt.show()"
   ]
  },
  {
   "cell_type": "code",
   "execution_count": 31,
   "metadata": {
    "tags": []
   },
   "outputs": [],
   "source": [
    "import matplotlib.pyplot as plt"
   ]
  },
  {
   "cell_type": "code",
   "execution_count": 32,
   "metadata": {
    "tags": []
   },
   "outputs": [
    {
     "data": {
      "image/png": "[encoded data removed]",
      "text/plain": [
       "<Figure size 864x288 with 2 Axes>"
      ]
     },
     "metadata": {
      "needs_background": "light"
     },
     "output_type": "display_data"
    }
   ],
   "source": [
    "plt.figure(figsize=(12,4))\n",
    "plt.subplot(1,2,1)\n",
    "x=['Counting','encoding','TF-IDF']\n",
    "plt.bar(x,comparing_train,color='#FFA726')\n",
    "plt.title('Accuracy on Training')\n",
    "\n",
    "plt.subplot(1,2,2)\n",
    "plt.bar(x,comparing_test,color='yellowgreen')\n",
    "plt.title('Accuracy on Testing')\n",
    "\n",
    "\n",
    "plt.show()"
   ]
  },
  {
   "cell_type": "code",
   "execution_count": null,
   "metadata": {},
   "outputs": [],
   "source": []
  },
  {
   "cell_type": "code",
   "execution_count": null,
   "metadata": {},
   "outputs": [],
   "source": []
  }
 ],
 "metadata": {
  "kernelspec": {
   "display_name": "Python 3 (ipykernel)",
   "language": "python",
   "name": "python3"
  },
  "language_info": {
   "codemirror_mode": {
    "name": "ipython",
    "version": 3
   },
   "file_extension": ".py",
   "mimetype": "text/x-python",
   "name": "python",
   "nbconvert_exporter": "python",
   "pygments_lexer": "ipython3",
   "version": "3.8.10"
  }
 },
 "nbformat": 4,
 "nbformat_minor": 4
}
